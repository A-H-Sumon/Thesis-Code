{
 "cells": [
  {
   "cell_type": "code",
   "execution_count": 127,
   "id": "1e910f1e",
   "metadata": {},
   "outputs": [],
   "source": [
    "#!pip install -U imbalanced-learn"
   ]
  },
  {
   "cell_type": "code",
   "execution_count": 1,
   "id": "8cb4d3c9",
   "metadata": {},
   "outputs": [],
   "source": [
    "import pandas as pd\n",
    "from sklearn import tree\n",
    "from sklearn.model_selection import train_test_split\n",
    "from sklearn.metrics import accuracy_score, confusion_matrix"
   ]
  },
  {
   "cell_type": "code",
   "execution_count": 2,
   "id": "99378ac6",
   "metadata": {
    "scrolled": false
   },
   "outputs": [
    {
     "data": {
      "text/html": [
       "<div>\n",
       "<style scoped>\n",
       "    .dataframe tbody tr th:only-of-type {\n",
       "        vertical-align: middle;\n",
       "    }\n",
       "\n",
       "    .dataframe tbody tr th {\n",
       "        vertical-align: top;\n",
       "    }\n",
       "\n",
       "    .dataframe thead th {\n",
       "        text-align: right;\n",
       "    }\n",
       "</style>\n",
       "<table border=\"1\" class=\"dataframe\">\n",
       "  <thead>\n",
       "    <tr style=\"text-align: right;\">\n",
       "      <th></th>\n",
       "      <th>1. Age in years</th>\n",
       "      <th>Gender</th>\n",
       "      <th>Placeofresidents</th>\n",
       "      <th>Race</th>\n",
       "      <th>EducationalLevel</th>\n",
       "      <th>OccupationalStatus</th>\n",
       "      <th>MaritalStatus</th>\n",
       "      <th>8. Family Income</th>\n",
       "      <th>1stquestion</th>\n",
       "      <th>2ndquestion</th>\n",
       "      <th>...</th>\n",
       "      <th>16thquestion</th>\n",
       "      <th>17thquestion</th>\n",
       "      <th>18thquestion</th>\n",
       "      <th>19thquestion</th>\n",
       "      <th>20thquestion</th>\n",
       "      <th>21stquestion</th>\n",
       "      <th>Agegroup</th>\n",
       "      <th>Depression</th>\n",
       "      <th>Stress</th>\n",
       "      <th>Anxiety</th>\n",
       "    </tr>\n",
       "  </thead>\n",
       "  <tbody>\n",
       "    <tr>\n",
       "      <th>0</th>\n",
       "      <td>25</td>\n",
       "      <td>Female</td>\n",
       "      <td>Urban area</td>\n",
       "      <td>Malay</td>\n",
       "      <td>Tertiary education (Degree, Master, PHD)</td>\n",
       "      <td>Full-time</td>\n",
       "      <td>Single</td>\n",
       "      <td>Less than RM 4, 849</td>\n",
       "      <td>1</td>\n",
       "      <td>3</td>\n",
       "      <td>...</td>\n",
       "      <td>1</td>\n",
       "      <td>1</td>\n",
       "      <td>3</td>\n",
       "      <td>1</td>\n",
       "      <td>2</td>\n",
       "      <td>1</td>\n",
       "      <td>21-25</td>\n",
       "      <td>Yes</td>\n",
       "      <td>Yes</td>\n",
       "      <td>Yes</td>\n",
       "    </tr>\n",
       "    <tr>\n",
       "      <th>1</th>\n",
       "      <td>23</td>\n",
       "      <td>Female</td>\n",
       "      <td>Rural area</td>\n",
       "      <td>Others</td>\n",
       "      <td>Tertiary education (Degree, Master, PHD)</td>\n",
       "      <td>Student</td>\n",
       "      <td>Single</td>\n",
       "      <td>Between RM 4, 850 to RM 10, 959</td>\n",
       "      <td>2</td>\n",
       "      <td>0</td>\n",
       "      <td>...</td>\n",
       "      <td>1</td>\n",
       "      <td>1</td>\n",
       "      <td>0</td>\n",
       "      <td>0</td>\n",
       "      <td>0</td>\n",
       "      <td>1</td>\n",
       "      <td>21-25</td>\n",
       "      <td>Yes</td>\n",
       "      <td>No</td>\n",
       "      <td>No</td>\n",
       "    </tr>\n",
       "    <tr>\n",
       "      <th>2</th>\n",
       "      <td>28</td>\n",
       "      <td>Female</td>\n",
       "      <td>Rural area</td>\n",
       "      <td>Malay</td>\n",
       "      <td>Tertiary education (Degree, Master, PHD)</td>\n",
       "      <td>Full-time</td>\n",
       "      <td>Single</td>\n",
       "      <td>Less than RM 4, 849</td>\n",
       "      <td>2</td>\n",
       "      <td>3</td>\n",
       "      <td>...</td>\n",
       "      <td>1</td>\n",
       "      <td>1</td>\n",
       "      <td>2</td>\n",
       "      <td>1</td>\n",
       "      <td>1</td>\n",
       "      <td>0</td>\n",
       "      <td>26-30</td>\n",
       "      <td>Yes</td>\n",
       "      <td>Yes</td>\n",
       "      <td>Yes</td>\n",
       "    </tr>\n",
       "    <tr>\n",
       "      <th>3</th>\n",
       "      <td>20</td>\n",
       "      <td>Female</td>\n",
       "      <td>Urban area</td>\n",
       "      <td>Malay</td>\n",
       "      <td>Tertiary education (Degree, Master, PHD)</td>\n",
       "      <td>Student</td>\n",
       "      <td>Single</td>\n",
       "      <td>More than RM 10,960</td>\n",
       "      <td>1</td>\n",
       "      <td>2</td>\n",
       "      <td>...</td>\n",
       "      <td>2</td>\n",
       "      <td>1</td>\n",
       "      <td>2</td>\n",
       "      <td>2</td>\n",
       "      <td>1</td>\n",
       "      <td>1</td>\n",
       "      <td>18-20</td>\n",
       "      <td>Yes</td>\n",
       "      <td>No</td>\n",
       "      <td>Yes</td>\n",
       "    </tr>\n",
       "    <tr>\n",
       "      <th>4</th>\n",
       "      <td>19</td>\n",
       "      <td>Female</td>\n",
       "      <td>Rural area</td>\n",
       "      <td>Malay</td>\n",
       "      <td>Post-secondary education (Pre-University : Mat...</td>\n",
       "      <td>Student</td>\n",
       "      <td>Single</td>\n",
       "      <td>More than RM 10,960</td>\n",
       "      <td>1</td>\n",
       "      <td>1</td>\n",
       "      <td>...</td>\n",
       "      <td>0</td>\n",
       "      <td>0</td>\n",
       "      <td>1</td>\n",
       "      <td>0</td>\n",
       "      <td>1</td>\n",
       "      <td>0</td>\n",
       "      <td>18-20</td>\n",
       "      <td>No</td>\n",
       "      <td>No</td>\n",
       "      <td>Yes</td>\n",
       "    </tr>\n",
       "  </tbody>\n",
       "</table>\n",
       "<p>5 rows × 33 columns</p>\n",
       "</div>"
      ],
      "text/plain": [
       "   1. Age in years  Gender Placeofresidents    Race  \\\n",
       "0               25  Female       Urban area   Malay   \n",
       "1               23  Female       Rural area  Others   \n",
       "2               28  Female       Rural area   Malay   \n",
       "3               20  Female       Urban area   Malay   \n",
       "4               19  Female       Rural area   Malay   \n",
       "\n",
       "                                    EducationalLevel OccupationalStatus  \\\n",
       "0           Tertiary education (Degree, Master, PHD)          Full-time   \n",
       "1           Tertiary education (Degree, Master, PHD)            Student   \n",
       "2           Tertiary education (Degree, Master, PHD)          Full-time   \n",
       "3           Tertiary education (Degree, Master, PHD)            Student   \n",
       "4  Post-secondary education (Pre-University : Mat...            Student   \n",
       "\n",
       "  MaritalStatus                 8. Family Income  1stquestion  2ndquestion  \\\n",
       "0        Single              Less than RM 4, 849            1            3   \n",
       "1        Single  Between RM 4, 850 to RM 10, 959            2            0   \n",
       "2        Single              Less than RM 4, 849            2            3   \n",
       "3        Single              More than RM 10,960            1            2   \n",
       "4        Single              More than RM 10,960            1            1   \n",
       "\n",
       "   ...  16thquestion  17thquestion  18thquestion  19thquestion  20thquestion  \\\n",
       "0  ...             1             1             3             1             2   \n",
       "1  ...             1             1             0             0             0   \n",
       "2  ...             1             1             2             1             1   \n",
       "3  ...             2             1             2             2             1   \n",
       "4  ...             0             0             1             0             1   \n",
       "\n",
       "   21stquestion  Agegroup  Depression  Stress  Anxiety  \n",
       "0             1     21-25         Yes     Yes      Yes  \n",
       "1             1     21-25         Yes      No       No  \n",
       "2             0     26-30         Yes     Yes      Yes  \n",
       "3             1     18-20         Yes      No      Yes  \n",
       "4             0     18-20          No      No      Yes  \n",
       "\n",
       "[5 rows x 33 columns]"
      ]
     },
     "execution_count": 2,
     "metadata": {},
     "output_type": "execute_result"
    }
   ],
   "source": [
    "dir = \"F:\\Thesis Material\\Thesisdataset.xlsx\"\n",
    "dataset = pd.read_excel(dir)\n",
    "dataset.head()"
   ]
  },
  {
   "cell_type": "code",
   "execution_count": 3,
   "id": "c9bc1eb5",
   "metadata": {
    "scrolled": true
   },
   "outputs": [
    {
     "data": {
      "text/html": [
       "<div>\n",
       "<style scoped>\n",
       "    .dataframe tbody tr th:only-of-type {\n",
       "        vertical-align: middle;\n",
       "    }\n",
       "\n",
       "    .dataframe tbody tr th {\n",
       "        vertical-align: top;\n",
       "    }\n",
       "\n",
       "    .dataframe thead th {\n",
       "        text-align: right;\n",
       "    }\n",
       "</style>\n",
       "<table border=\"1\" class=\"dataframe\">\n",
       "  <thead>\n",
       "    <tr style=\"text-align: right;\">\n",
       "      <th></th>\n",
       "      <th>Gender</th>\n",
       "      <th>Placeofresidents</th>\n",
       "      <th>Race</th>\n",
       "      <th>EducationalLevel</th>\n",
       "      <th>OccupationalStatus</th>\n",
       "      <th>MaritalStatus</th>\n",
       "      <th>1stquestion</th>\n",
       "      <th>2ndquestion</th>\n",
       "      <th>3rdquestion</th>\n",
       "      <th>4thquestion</th>\n",
       "      <th>...</th>\n",
       "      <th>16thquestion</th>\n",
       "      <th>17thquestion</th>\n",
       "      <th>18thquestion</th>\n",
       "      <th>19thquestion</th>\n",
       "      <th>20thquestion</th>\n",
       "      <th>21stquestion</th>\n",
       "      <th>Agegroup</th>\n",
       "      <th>Depression</th>\n",
       "      <th>Stress</th>\n",
       "      <th>Anxiety</th>\n",
       "    </tr>\n",
       "  </thead>\n",
       "  <tbody>\n",
       "    <tr>\n",
       "      <th>0</th>\n",
       "      <td>Female</td>\n",
       "      <td>Urban area</td>\n",
       "      <td>Malay</td>\n",
       "      <td>Tertiary education (Degree, Master, PHD)</td>\n",
       "      <td>Full-time</td>\n",
       "      <td>Single</td>\n",
       "      <td>1</td>\n",
       "      <td>3</td>\n",
       "      <td>1</td>\n",
       "      <td>3</td>\n",
       "      <td>...</td>\n",
       "      <td>1</td>\n",
       "      <td>1</td>\n",
       "      <td>3</td>\n",
       "      <td>1</td>\n",
       "      <td>2</td>\n",
       "      <td>1</td>\n",
       "      <td>21-25</td>\n",
       "      <td>Yes</td>\n",
       "      <td>Yes</td>\n",
       "      <td>Yes</td>\n",
       "    </tr>\n",
       "    <tr>\n",
       "      <th>1</th>\n",
       "      <td>Female</td>\n",
       "      <td>Rural area</td>\n",
       "      <td>Others</td>\n",
       "      <td>Tertiary education (Degree, Master, PHD)</td>\n",
       "      <td>Student</td>\n",
       "      <td>Single</td>\n",
       "      <td>2</td>\n",
       "      <td>0</td>\n",
       "      <td>0</td>\n",
       "      <td>0</td>\n",
       "      <td>...</td>\n",
       "      <td>1</td>\n",
       "      <td>1</td>\n",
       "      <td>0</td>\n",
       "      <td>0</td>\n",
       "      <td>0</td>\n",
       "      <td>1</td>\n",
       "      <td>21-25</td>\n",
       "      <td>Yes</td>\n",
       "      <td>No</td>\n",
       "      <td>No</td>\n",
       "    </tr>\n",
       "    <tr>\n",
       "      <th>2</th>\n",
       "      <td>Female</td>\n",
       "      <td>Rural area</td>\n",
       "      <td>Malay</td>\n",
       "      <td>Tertiary education (Degree, Master, PHD)</td>\n",
       "      <td>Full-time</td>\n",
       "      <td>Single</td>\n",
       "      <td>2</td>\n",
       "      <td>3</td>\n",
       "      <td>1</td>\n",
       "      <td>2</td>\n",
       "      <td>...</td>\n",
       "      <td>1</td>\n",
       "      <td>1</td>\n",
       "      <td>2</td>\n",
       "      <td>1</td>\n",
       "      <td>1</td>\n",
       "      <td>0</td>\n",
       "      <td>26-30</td>\n",
       "      <td>Yes</td>\n",
       "      <td>Yes</td>\n",
       "      <td>Yes</td>\n",
       "    </tr>\n",
       "    <tr>\n",
       "      <th>3</th>\n",
       "      <td>Female</td>\n",
       "      <td>Urban area</td>\n",
       "      <td>Malay</td>\n",
       "      <td>Tertiary education (Degree, Master, PHD)</td>\n",
       "      <td>Student</td>\n",
       "      <td>Single</td>\n",
       "      <td>1</td>\n",
       "      <td>2</td>\n",
       "      <td>1</td>\n",
       "      <td>1</td>\n",
       "      <td>...</td>\n",
       "      <td>2</td>\n",
       "      <td>1</td>\n",
       "      <td>2</td>\n",
       "      <td>2</td>\n",
       "      <td>1</td>\n",
       "      <td>1</td>\n",
       "      <td>18-20</td>\n",
       "      <td>Yes</td>\n",
       "      <td>No</td>\n",
       "      <td>Yes</td>\n",
       "    </tr>\n",
       "    <tr>\n",
       "      <th>4</th>\n",
       "      <td>Female</td>\n",
       "      <td>Rural area</td>\n",
       "      <td>Malay</td>\n",
       "      <td>Post-secondary education (Pre-University : Mat...</td>\n",
       "      <td>Student</td>\n",
       "      <td>Single</td>\n",
       "      <td>1</td>\n",
       "      <td>1</td>\n",
       "      <td>1</td>\n",
       "      <td>1</td>\n",
       "      <td>...</td>\n",
       "      <td>0</td>\n",
       "      <td>0</td>\n",
       "      <td>1</td>\n",
       "      <td>0</td>\n",
       "      <td>1</td>\n",
       "      <td>0</td>\n",
       "      <td>18-20</td>\n",
       "      <td>No</td>\n",
       "      <td>No</td>\n",
       "      <td>Yes</td>\n",
       "    </tr>\n",
       "  </tbody>\n",
       "</table>\n",
       "<p>5 rows × 31 columns</p>\n",
       "</div>"
      ],
      "text/plain": [
       "   Gender Placeofresidents    Race  \\\n",
       "0  Female       Urban area   Malay   \n",
       "1  Female       Rural area  Others   \n",
       "2  Female       Rural area   Malay   \n",
       "3  Female       Urban area   Malay   \n",
       "4  Female       Rural area   Malay   \n",
       "\n",
       "                                    EducationalLevel OccupationalStatus  \\\n",
       "0           Tertiary education (Degree, Master, PHD)          Full-time   \n",
       "1           Tertiary education (Degree, Master, PHD)            Student   \n",
       "2           Tertiary education (Degree, Master, PHD)          Full-time   \n",
       "3           Tertiary education (Degree, Master, PHD)            Student   \n",
       "4  Post-secondary education (Pre-University : Mat...            Student   \n",
       "\n",
       "  MaritalStatus  1stquestion  2ndquestion  3rdquestion  4thquestion  ...  \\\n",
       "0        Single            1            3            1            3  ...   \n",
       "1        Single            2            0            0            0  ...   \n",
       "2        Single            2            3            1            2  ...   \n",
       "3        Single            1            2            1            1  ...   \n",
       "4        Single            1            1            1            1  ...   \n",
       "\n",
       "   16thquestion  17thquestion  18thquestion  19thquestion  20thquestion  \\\n",
       "0             1             1             3             1             2   \n",
       "1             1             1             0             0             0   \n",
       "2             1             1             2             1             1   \n",
       "3             2             1             2             2             1   \n",
       "4             0             0             1             0             1   \n",
       "\n",
       "   21stquestion  Agegroup  Depression  Stress  Anxiety  \n",
       "0             1     21-25         Yes     Yes      Yes  \n",
       "1             1     21-25         Yes      No       No  \n",
       "2             0     26-30         Yes     Yes      Yes  \n",
       "3             1     18-20         Yes      No      Yes  \n",
       "4             0     18-20          No      No      Yes  \n",
       "\n",
       "[5 rows x 31 columns]"
      ]
     },
     "execution_count": 3,
     "metadata": {},
     "output_type": "execute_result"
    }
   ],
   "source": [
    "inputs = dataset.drop(('1. Age in years'), axis = 'columns')\n",
    "inputs.head()\n",
    "df = inputs.drop('8. Family Income', axis = 'columns')\n",
    "df.head()"
   ]
  },
  {
   "cell_type": "code",
   "execution_count": 4,
   "id": "93070aef",
   "metadata": {},
   "outputs": [],
   "source": [
    "le_Gender = LabelEncoder()\n",
    "le_Placeofresidents = LabelEncoder()\n",
    "le_Race = LabelEncoder()\n",
    "le_EducationalLevel = LabelEncoder()\n",
    "le_OccupationalStatus = LabelEncoder()\n",
    "le_MaritalStatus = LabelEncoder()\n",
    "le_Agegroup = LabelEncoder()\n",
    "le_Depression = LabelEncoder()\n",
    "le_Stress = LabelEncoder()\n",
    "le_Anxiety = LabelEncoder()"
   ]
  },
  {
   "cell_type": "code",
   "execution_count": 5,
   "id": "d6fb81d0",
   "metadata": {},
   "outputs": [
    {
     "data": {
      "text/html": [
       "<div>\n",
       "<style scoped>\n",
       "    .dataframe tbody tr th:only-of-type {\n",
       "        vertical-align: middle;\n",
       "    }\n",
       "\n",
       "    .dataframe tbody tr th {\n",
       "        vertical-align: top;\n",
       "    }\n",
       "\n",
       "    .dataframe thead th {\n",
       "        text-align: right;\n",
       "    }\n",
       "</style>\n",
       "<table border=\"1\" class=\"dataframe\">\n",
       "  <thead>\n",
       "    <tr style=\"text-align: right;\">\n",
       "      <th></th>\n",
       "      <th>Gender</th>\n",
       "      <th>Placeofresidents</th>\n",
       "      <th>Race</th>\n",
       "      <th>EducationalLevel</th>\n",
       "      <th>OccupationalStatus</th>\n",
       "      <th>MaritalStatus</th>\n",
       "      <th>1stquestion</th>\n",
       "      <th>2ndquestion</th>\n",
       "      <th>3rdquestion</th>\n",
       "      <th>4thquestion</th>\n",
       "      <th>...</th>\n",
       "      <th>Gndr</th>\n",
       "      <th>Resident</th>\n",
       "      <th>RaceStat</th>\n",
       "      <th>Education</th>\n",
       "      <th>Occupation</th>\n",
       "      <th>Marriage</th>\n",
       "      <th>Age</th>\n",
       "      <th>Depressed</th>\n",
       "      <th>Stressed</th>\n",
       "      <th>Anex</th>\n",
       "    </tr>\n",
       "  </thead>\n",
       "  <tbody>\n",
       "    <tr>\n",
       "      <th>0</th>\n",
       "      <td>Female</td>\n",
       "      <td>Urban area</td>\n",
       "      <td>Malay</td>\n",
       "      <td>Tertiary education (Degree, Master, PHD)</td>\n",
       "      <td>Full-time</td>\n",
       "      <td>Single</td>\n",
       "      <td>1</td>\n",
       "      <td>3</td>\n",
       "      <td>1</td>\n",
       "      <td>3</td>\n",
       "      <td>...</td>\n",
       "      <td>0</td>\n",
       "      <td>1</td>\n",
       "      <td>2</td>\n",
       "      <td>3</td>\n",
       "      <td>0</td>\n",
       "      <td>3</td>\n",
       "      <td>1</td>\n",
       "      <td>1</td>\n",
       "      <td>1</td>\n",
       "      <td>1</td>\n",
       "    </tr>\n",
       "    <tr>\n",
       "      <th>1</th>\n",
       "      <td>Female</td>\n",
       "      <td>Rural area</td>\n",
       "      <td>Others</td>\n",
       "      <td>Tertiary education (Degree, Master, PHD)</td>\n",
       "      <td>Student</td>\n",
       "      <td>Single</td>\n",
       "      <td>2</td>\n",
       "      <td>0</td>\n",
       "      <td>0</td>\n",
       "      <td>0</td>\n",
       "      <td>...</td>\n",
       "      <td>0</td>\n",
       "      <td>0</td>\n",
       "      <td>3</td>\n",
       "      <td>3</td>\n",
       "      <td>2</td>\n",
       "      <td>3</td>\n",
       "      <td>1</td>\n",
       "      <td>1</td>\n",
       "      <td>0</td>\n",
       "      <td>0</td>\n",
       "    </tr>\n",
       "    <tr>\n",
       "      <th>2</th>\n",
       "      <td>Female</td>\n",
       "      <td>Rural area</td>\n",
       "      <td>Malay</td>\n",
       "      <td>Tertiary education (Degree, Master, PHD)</td>\n",
       "      <td>Full-time</td>\n",
       "      <td>Single</td>\n",
       "      <td>2</td>\n",
       "      <td>3</td>\n",
       "      <td>1</td>\n",
       "      <td>2</td>\n",
       "      <td>...</td>\n",
       "      <td>0</td>\n",
       "      <td>0</td>\n",
       "      <td>2</td>\n",
       "      <td>3</td>\n",
       "      <td>0</td>\n",
       "      <td>3</td>\n",
       "      <td>2</td>\n",
       "      <td>1</td>\n",
       "      <td>1</td>\n",
       "      <td>1</td>\n",
       "    </tr>\n",
       "    <tr>\n",
       "      <th>3</th>\n",
       "      <td>Female</td>\n",
       "      <td>Urban area</td>\n",
       "      <td>Malay</td>\n",
       "      <td>Tertiary education (Degree, Master, PHD)</td>\n",
       "      <td>Student</td>\n",
       "      <td>Single</td>\n",
       "      <td>1</td>\n",
       "      <td>2</td>\n",
       "      <td>1</td>\n",
       "      <td>1</td>\n",
       "      <td>...</td>\n",
       "      <td>0</td>\n",
       "      <td>1</td>\n",
       "      <td>2</td>\n",
       "      <td>3</td>\n",
       "      <td>2</td>\n",
       "      <td>3</td>\n",
       "      <td>0</td>\n",
       "      <td>1</td>\n",
       "      <td>0</td>\n",
       "      <td>1</td>\n",
       "    </tr>\n",
       "    <tr>\n",
       "      <th>4</th>\n",
       "      <td>Female</td>\n",
       "      <td>Rural area</td>\n",
       "      <td>Malay</td>\n",
       "      <td>Post-secondary education (Pre-University : Mat...</td>\n",
       "      <td>Student</td>\n",
       "      <td>Single</td>\n",
       "      <td>1</td>\n",
       "      <td>1</td>\n",
       "      <td>1</td>\n",
       "      <td>1</td>\n",
       "      <td>...</td>\n",
       "      <td>0</td>\n",
       "      <td>0</td>\n",
       "      <td>2</td>\n",
       "      <td>1</td>\n",
       "      <td>2</td>\n",
       "      <td>3</td>\n",
       "      <td>0</td>\n",
       "      <td>0</td>\n",
       "      <td>0</td>\n",
       "      <td>1</td>\n",
       "    </tr>\n",
       "  </tbody>\n",
       "</table>\n",
       "<p>5 rows × 41 columns</p>\n",
       "</div>"
      ],
      "text/plain": [
       "   Gender Placeofresidents    Race  \\\n",
       "0  Female       Urban area   Malay   \n",
       "1  Female       Rural area  Others   \n",
       "2  Female       Rural area   Malay   \n",
       "3  Female       Urban area   Malay   \n",
       "4  Female       Rural area   Malay   \n",
       "\n",
       "                                    EducationalLevel OccupationalStatus  \\\n",
       "0           Tertiary education (Degree, Master, PHD)          Full-time   \n",
       "1           Tertiary education (Degree, Master, PHD)            Student   \n",
       "2           Tertiary education (Degree, Master, PHD)          Full-time   \n",
       "3           Tertiary education (Degree, Master, PHD)            Student   \n",
       "4  Post-secondary education (Pre-University : Mat...            Student   \n",
       "\n",
       "  MaritalStatus  1stquestion  2ndquestion  3rdquestion  4thquestion  ...  \\\n",
       "0        Single            1            3            1            3  ...   \n",
       "1        Single            2            0            0            0  ...   \n",
       "2        Single            2            3            1            2  ...   \n",
       "3        Single            1            2            1            1  ...   \n",
       "4        Single            1            1            1            1  ...   \n",
       "\n",
       "   Gndr  Resident  RaceStat  Education  Occupation  Marriage  Age  Depressed  \\\n",
       "0     0         1         2          3           0         3    1          1   \n",
       "1     0         0         3          3           2         3    1          1   \n",
       "2     0         0         2          3           0         3    2          1   \n",
       "3     0         1         2          3           2         3    0          1   \n",
       "4     0         0         2          1           2         3    0          0   \n",
       "\n",
       "   Stressed  Anex  \n",
       "0         1     1  \n",
       "1         0     0  \n",
       "2         1     1  \n",
       "3         0     1  \n",
       "4         0     1  \n",
       "\n",
       "[5 rows x 41 columns]"
      ]
     },
     "execution_count": 5,
     "metadata": {},
     "output_type": "execute_result"
    }
   ],
   "source": [
    "df['Gndr'] = le_Gender.fit_transform(df['Gender'])\n",
    "df['Resident'] = le_Placeofresidents.fit_transform(df['Placeofresidents'])\n",
    "df['RaceStat'] = le_Race.fit_transform(df['Race'])\n",
    "df['Education'] = le_EducationalLevel.fit_transform(df['EducationalLevel'])\n",
    "df['Occupation'] = le_OccupationalStatus.fit_transform(df['OccupationalStatus'])\n",
    "df['Marriage'] = le_MaritalStatus.fit_transform(df['MaritalStatus'])\n",
    "df['Age'] = le_Agegroup.fit_transform(df['Agegroup'])\n",
    "df['Depressed'] = le_Depression.fit_transform(df['Depression'])\n",
    "df['Stressed'] = le_Stress.fit_transform(df['Stress'])\n",
    "df['Anex'] = le_Anxiety.fit_transform(df['Anxiety'])\n",
    "\n",
    "df.head()"
   ]
  },
  {
   "cell_type": "code",
   "execution_count": 6,
   "id": "e52756d1",
   "metadata": {
    "scrolled": true
   },
   "outputs": [
    {
     "data": {
      "text/html": [
       "<div>\n",
       "<style scoped>\n",
       "    .dataframe tbody tr th:only-of-type {\n",
       "        vertical-align: middle;\n",
       "    }\n",
       "\n",
       "    .dataframe tbody tr th {\n",
       "        vertical-align: top;\n",
       "    }\n",
       "\n",
       "    .dataframe thead th {\n",
       "        text-align: right;\n",
       "    }\n",
       "</style>\n",
       "<table border=\"1\" class=\"dataframe\">\n",
       "  <thead>\n",
       "    <tr style=\"text-align: right;\">\n",
       "      <th></th>\n",
       "      <th>1stquestion</th>\n",
       "      <th>2ndquestion</th>\n",
       "      <th>3rdquestion</th>\n",
       "      <th>4thquestion</th>\n",
       "      <th>5thquestion</th>\n",
       "      <th>6thquestion</th>\n",
       "      <th>7thquestion</th>\n",
       "      <th>8thquestion</th>\n",
       "      <th>9thquestion</th>\n",
       "      <th>10thquestion</th>\n",
       "      <th>...</th>\n",
       "      <th>Gndr</th>\n",
       "      <th>Resident</th>\n",
       "      <th>RaceStat</th>\n",
       "      <th>Education</th>\n",
       "      <th>Occupation</th>\n",
       "      <th>Marriage</th>\n",
       "      <th>Age</th>\n",
       "      <th>Depressed</th>\n",
       "      <th>Stressed</th>\n",
       "      <th>Anex</th>\n",
       "    </tr>\n",
       "  </thead>\n",
       "  <tbody>\n",
       "    <tr>\n",
       "      <th>0</th>\n",
       "      <td>1</td>\n",
       "      <td>3</td>\n",
       "      <td>1</td>\n",
       "      <td>3</td>\n",
       "      <td>1</td>\n",
       "      <td>0</td>\n",
       "      <td>2</td>\n",
       "      <td>1</td>\n",
       "      <td>1</td>\n",
       "      <td>0</td>\n",
       "      <td>...</td>\n",
       "      <td>0</td>\n",
       "      <td>1</td>\n",
       "      <td>2</td>\n",
       "      <td>3</td>\n",
       "      <td>0</td>\n",
       "      <td>3</td>\n",
       "      <td>1</td>\n",
       "      <td>1</td>\n",
       "      <td>1</td>\n",
       "      <td>1</td>\n",
       "    </tr>\n",
       "    <tr>\n",
       "      <th>1</th>\n",
       "      <td>2</td>\n",
       "      <td>0</td>\n",
       "      <td>0</td>\n",
       "      <td>0</td>\n",
       "      <td>1</td>\n",
       "      <td>1</td>\n",
       "      <td>0</td>\n",
       "      <td>1</td>\n",
       "      <td>1</td>\n",
       "      <td>1</td>\n",
       "      <td>...</td>\n",
       "      <td>0</td>\n",
       "      <td>0</td>\n",
       "      <td>3</td>\n",
       "      <td>3</td>\n",
       "      <td>2</td>\n",
       "      <td>3</td>\n",
       "      <td>1</td>\n",
       "      <td>1</td>\n",
       "      <td>0</td>\n",
       "      <td>0</td>\n",
       "    </tr>\n",
       "    <tr>\n",
       "      <th>2</th>\n",
       "      <td>2</td>\n",
       "      <td>3</td>\n",
       "      <td>1</td>\n",
       "      <td>2</td>\n",
       "      <td>1</td>\n",
       "      <td>3</td>\n",
       "      <td>3</td>\n",
       "      <td>1</td>\n",
       "      <td>2</td>\n",
       "      <td>3</td>\n",
       "      <td>...</td>\n",
       "      <td>0</td>\n",
       "      <td>0</td>\n",
       "      <td>2</td>\n",
       "      <td>3</td>\n",
       "      <td>0</td>\n",
       "      <td>3</td>\n",
       "      <td>2</td>\n",
       "      <td>1</td>\n",
       "      <td>1</td>\n",
       "      <td>1</td>\n",
       "    </tr>\n",
       "    <tr>\n",
       "      <th>3</th>\n",
       "      <td>1</td>\n",
       "      <td>2</td>\n",
       "      <td>1</td>\n",
       "      <td>1</td>\n",
       "      <td>2</td>\n",
       "      <td>1</td>\n",
       "      <td>1</td>\n",
       "      <td>0</td>\n",
       "      <td>2</td>\n",
       "      <td>2</td>\n",
       "      <td>...</td>\n",
       "      <td>0</td>\n",
       "      <td>1</td>\n",
       "      <td>2</td>\n",
       "      <td>3</td>\n",
       "      <td>2</td>\n",
       "      <td>3</td>\n",
       "      <td>0</td>\n",
       "      <td>1</td>\n",
       "      <td>0</td>\n",
       "      <td>1</td>\n",
       "    </tr>\n",
       "    <tr>\n",
       "      <th>4</th>\n",
       "      <td>1</td>\n",
       "      <td>1</td>\n",
       "      <td>1</td>\n",
       "      <td>1</td>\n",
       "      <td>0</td>\n",
       "      <td>1</td>\n",
       "      <td>1</td>\n",
       "      <td>1</td>\n",
       "      <td>2</td>\n",
       "      <td>1</td>\n",
       "      <td>...</td>\n",
       "      <td>0</td>\n",
       "      <td>0</td>\n",
       "      <td>2</td>\n",
       "      <td>1</td>\n",
       "      <td>2</td>\n",
       "      <td>3</td>\n",
       "      <td>0</td>\n",
       "      <td>0</td>\n",
       "      <td>0</td>\n",
       "      <td>1</td>\n",
       "    </tr>\n",
       "  </tbody>\n",
       "</table>\n",
       "<p>5 rows × 31 columns</p>\n",
       "</div>"
      ],
      "text/plain": [
       "   1stquestion  2ndquestion  3rdquestion  4thquestion  5thquestion  \\\n",
       "0            1            3            1            3            1   \n",
       "1            2            0            0            0            1   \n",
       "2            2            3            1            2            1   \n",
       "3            1            2            1            1            2   \n",
       "4            1            1            1            1            0   \n",
       "\n",
       "   6thquestion  7thquestion  8thquestion  9thquestion  10thquestion  ...  \\\n",
       "0            0            2            1            1             0  ...   \n",
       "1            1            0            1            1             1  ...   \n",
       "2            3            3            1            2             3  ...   \n",
       "3            1            1            0            2             2  ...   \n",
       "4            1            1            1            2             1  ...   \n",
       "\n",
       "   Gndr  Resident  RaceStat  Education  Occupation  Marriage  Age  Depressed  \\\n",
       "0     0         1         2          3           0         3    1          1   \n",
       "1     0         0         3          3           2         3    1          1   \n",
       "2     0         0         2          3           0         3    2          1   \n",
       "3     0         1         2          3           2         3    0          1   \n",
       "4     0         0         2          1           2         3    0          0   \n",
       "\n",
       "   Stressed  Anex  \n",
       "0         1     1  \n",
       "1         0     0  \n",
       "2         1     1  \n",
       "3         0     1  \n",
       "4         0     1  \n",
       "\n",
       "[5 rows x 31 columns]"
      ]
     },
     "execution_count": 6,
     "metadata": {},
     "output_type": "execute_result"
    }
   ],
   "source": [
    "fdf = df.drop(['Gender', 'Placeofresidents', 'Race', 'EducationalLevel', 'OccupationalStatus', 'MaritalStatus', 'Agegroup', 'Depression', 'Stress', 'Anxiety'], axis='columns')\n",
    "fdf.head()"
   ]
  },
  {
   "cell_type": "code",
   "execution_count": 7,
   "id": "c899e271",
   "metadata": {},
   "outputs": [],
   "source": [
    "Depress=['Gndr','Resident','RaceStat','Education','Occupation','Marriage','Age','3rdquestion', '5thquestion', '10thquestion', '13thquestion' , '16thquestion', '17thquestion', '21stquestion']"
   ]
  },
  {
   "cell_type": "code",
   "execution_count": 8,
   "id": "5d6b44f3",
   "metadata": {},
   "outputs": [],
   "source": [
    "Strs=['Gndr','Resident','RaceStat','Education','Occupation','Marriage','Age', '1stquestion', '6thquestion', '8thquestion', '11thquestion', '12thquestion','14thquestion', '18thquestion']"
   ]
  },
  {
   "cell_type": "code",
   "execution_count": 9,
   "id": "1358d559",
   "metadata": {},
   "outputs": [],
   "source": [
    "Anx=['Gndr','Resident','RaceStat','Education','Occupation','Marriage','Age', '2ndquestion', '4thquestion', '7thquestion', '9thquestion', '15thquestion', '20thquestion', '19thquestion']"
   ]
  },
  {
   "cell_type": "code",
   "execution_count": 13,
   "id": "a3ea2a62",
   "metadata": {},
   "outputs": [
    {
     "data": {
      "text/plain": [
       "Index(['Gndr', 'Resident', 'RaceStat', 'Education', 'Occupation', 'Marriage',\n",
       "       'Age', '3rdquestion', '5thquestion', '10thquestion', '13thquestion',\n",
       "       '16thquestion', '17thquestion', '21stquestion'],\n",
       "      dtype='object')"
      ]
     },
     "execution_count": 13,
     "metadata": {},
     "output_type": "execute_result"
    }
   ],
   "source": [
    "x = df[Depress].copy()\n",
    "x.columns"
   ]
  },
  {
   "cell_type": "code",
   "execution_count": 10,
   "id": "525e7965",
   "metadata": {},
   "outputs": [
    {
     "data": {
      "text/plain": [
       "Index(['Depressed'], dtype='object')"
      ]
     },
     "execution_count": 10,
     "metadata": {},
     "output_type": "execute_result"
    }
   ],
   "source": [
    "cy=['Depressed']\n",
    "y=df[cy].copy()\n",
    "y.columns"
   ]
  },
  {
   "cell_type": "code",
   "execution_count": 11,
   "id": "d1dbeea4",
   "metadata": {},
   "outputs": [
    {
     "data": {
      "text/plain": [
       "<AxesSubplot:ylabel='Depressed'>"
      ]
     },
     "execution_count": 11,
     "metadata": {},
     "output_type": "execute_result"
    },
    {
     "data": {
      "image/png": "[encoded data removed]",
      "text/plain": [
       "<Figure size 432x288 with 1 Axes>"
      ]
     },
     "metadata": {},
     "output_type": "display_data"
    }
   ],
   "source": [
    "y['Depressed'].value_counts().plot.pie(autopct='%.2f')"
   ]
  },
  {
   "cell_type": "code",
   "execution_count": 14,
   "id": "b055bd69",
   "metadata": {},
   "outputs": [],
   "source": [
    "X_train, X_test, y_train, y_test = train_test_split(x, y,test_size = 0.9, random_state = 0)"
   ]
  },
  {
   "cell_type": "code",
   "execution_count": 15,
   "id": "54b4ff1b",
   "metadata": {},
   "outputs": [
    {
     "data": {
      "text/plain": [
       "<AxesSubplot:ylabel='None'>"
      ]
     },
     "execution_count": 15,
     "metadata": {},
     "output_type": "execute_result"
    },
    {
     "data": {
      "image/png": "[encoded data removed]",
      "text/plain": [
       "<Figure size 432x288 with 1 Axes>"
      ]
     },
     "metadata": {},
     "output_type": "display_data"
    }
   ],
   "source": [
    "y_train.value_counts().plot.pie()"
   ]
  },
  {
   "cell_type": "code",
   "execution_count": 16,
   "id": "178ce134",
   "metadata": {},
   "outputs": [],
   "source": [
    "from imblearn.over_sampling import SMOTE\n",
    "sm = SMOTE(random_state = 0)\n",
    "X_train_new, y_train_new = sm.fit_resample(X_train, y_train) "
   ]
  },
  {
   "cell_type": "code",
   "execution_count": 17,
   "id": "939eeaef",
   "metadata": {},
   "outputs": [
    {
     "data": {
      "text/plain": [
       "<AxesSubplot:ylabel='None'>"
      ]
     },
     "execution_count": 17,
     "metadata": {},
     "output_type": "execute_result"
    },
    {
     "data": {
      "image/png": "[encoded data removed]",
      "text/plain": [
       "<Figure size 432x288 with 1 Axes>"
      ]
     },
     "metadata": {},
     "output_type": "display_data"
    }
   ],
   "source": [
    "y_train_new.value_counts().plot.pie(autopct='%.2f')"
   ]
  },
  {
   "cell_type": "code",
   "execution_count": 19,
   "id": "429ec99b",
   "metadata": {},
   "outputs": [
    {
     "data": {
      "text/html": [
       "<style>#sk-container-id-1 {color: black;background-color: white;}#sk-container-id-1 pre{padding: 0;}#sk-container-id-1 div.sk-toggleable {background-color: white;}#sk-container-id-1 label.sk-toggleable__label {cursor: pointer;display: block;width: 100%;margin-bottom: 0;padding: 0.3em;box-sizing: border-box;text-align: center;}#sk-container-id-1 label.sk-toggleable__label-arrow:before {content: \"▸\";float: left;margin-right: 0.25em;color: #696969;}#sk-container-id-1 label.sk-toggleable__label-arrow:hover:before {color: black;}#sk-container-id-1 div.sk-estimator:hover label.sk-toggleable__label-arrow:before {color: black;}#sk-container-id-1 div.sk-toggleable__content {max-height: 0;max-width: 0;overflow: hidden;text-align: left;background-color: #f0f8ff;}#sk-container-id-1 div.sk-toggleable__content pre {margin: 0.2em;color: black;border-radius: 0.25em;background-color: #f0f8ff;}#sk-container-id-1 input.sk-toggleable__control:checked~div.sk-toggleable__content {max-height: 200px;max-width: 100%;overflow: auto;}#sk-container-id-1 input.sk-toggleable__control:checked~label.sk-toggleable__label-arrow:before {content: \"▾\";}#sk-container-id-1 div.sk-estimator input.sk-toggleable__control:checked~label.sk-toggleable__label {background-color: #d4ebff;}#sk-container-id-1 div.sk-label input.sk-toggleable__control:checked~label.sk-toggleable__label {background-color: #d4ebff;}#sk-container-id-1 input.sk-hidden--visually {border: 0;clip: rect(1px 1px 1px 1px);clip: rect(1px, 1px, 1px, 1px);height: 1px;margin: -1px;overflow: hidden;padding: 0;position: absolute;width: 1px;}#sk-container-id-1 div.sk-estimator {font-family: monospace;background-color: #f0f8ff;border: 1px dotted black;border-radius: 0.25em;box-sizing: border-box;margin-bottom: 0.5em;}#sk-container-id-1 div.sk-estimator:hover {background-color: #d4ebff;}#sk-container-id-1 div.sk-parallel-item::after {content: \"\";width: 100%;border-bottom: 1px solid gray;flex-grow: 1;}#sk-container-id-1 div.sk-label:hover label.sk-toggleable__label {background-color: #d4ebff;}#sk-container-id-1 div.sk-serial::before {content: \"\";position: absolute;border-left: 1px solid gray;box-sizing: border-box;top: 0;bottom: 0;left: 50%;z-index: 0;}#sk-container-id-1 div.sk-serial {display: flex;flex-direction: column;align-items: center;background-color: white;padding-right: 0.2em;padding-left: 0.2em;position: relative;}#sk-container-id-1 div.sk-item {position: relative;z-index: 1;}#sk-container-id-1 div.sk-parallel {display: flex;align-items: stretch;justify-content: center;background-color: white;position: relative;}#sk-container-id-1 div.sk-item::before, #sk-container-id-1 div.sk-parallel-item::before {content: \"\";position: absolute;border-left: 1px solid gray;box-sizing: border-box;top: 0;bottom: 0;left: 50%;z-index: -1;}#sk-container-id-1 div.sk-parallel-item {display: flex;flex-direction: column;z-index: 1;position: relative;background-color: white;}#sk-container-id-1 div.sk-parallel-item:first-child::after {align-self: flex-end;width: 50%;}#sk-container-id-1 div.sk-parallel-item:last-child::after {align-self: flex-start;width: 50%;}#sk-container-id-1 div.sk-parallel-item:only-child::after {width: 0;}#sk-container-id-1 div.sk-dashed-wrapped {border: 1px dashed gray;margin: 0 0.4em 0.5em 0.4em;box-sizing: border-box;padding-bottom: 0.4em;background-color: white;}#sk-container-id-1 div.sk-label label {font-family: monospace;font-weight: bold;display: inline-block;line-height: 1.2em;}#sk-container-id-1 div.sk-label-container {text-align: center;}#sk-container-id-1 div.sk-container {/* jupyter's `normalize.less` sets `[hidden] { display: none; }` but bootstrap.min.css set `[hidden] { display: none !important; }` so we also need the `!important` here to be able to override the default hidden behavior on the sphinx rendered scikit-learn.org. See: https://github.com/scikit-learn/scikit-learn/issues/21755 */display: inline-block !important;position: relative;}#sk-container-id-1 div.sk-text-repr-fallback {display: none;}</style><div id=\"sk-container-id-1\" class=\"sk-top-container\"><div class=\"sk-text-repr-fallback\"><pre>DecisionTreeClassifier()</pre><b>In a Jupyter environment, please rerun this cell to show the HTML representation or trust the notebook. <br />On GitHub, the HTML representation is unable to render, please try loading this page with nbviewer.org.</b></div><div class=\"sk-container\" hidden><div class=\"sk-item\"><div class=\"sk-estimator sk-toggleable\"><input class=\"sk-toggleable__control sk-hidden--visually\" id=\"sk-estimator-id-1\" type=\"checkbox\" checked><label for=\"sk-estimator-id-1\" class=\"sk-toggleable__label sk-toggleable__label-arrow\">DecisionTreeClassifier</label><div class=\"sk-toggleable__content\"><pre>DecisionTreeClassifier()</pre></div></div></div></div></div>"
      ],
      "text/plain": [
       "DecisionTreeClassifier()"
      ]
     },
     "execution_count": 19,
     "metadata": {},
     "output_type": "execute_result"
    }
   ],
   "source": [
    "x = tree.DecisionTreeClassifier()\n",
    "x.fit(X_train_new, y_train_new)"
   ]
  },
  {
   "cell_type": "code",
   "execution_count": 20,
   "id": "6223a284",
   "metadata": {},
   "outputs": [],
   "source": [
    "y_predicted = x.predict(X_test)"
   ]
  },
  {
   "cell_type": "code",
   "execution_count": 21,
   "id": "f1582173",
   "metadata": {},
   "outputs": [
    {
     "data": {
      "text/plain": [
       "0.8947368421052632"
      ]
     },
     "execution_count": 21,
     "metadata": {},
     "output_type": "execute_result"
    }
   ],
   "source": [
    "accuracy_score(y_test, y_predicted)"
   ]
  },
  {
   "cell_type": "code",
   "execution_count": 22,
   "id": "0141391c",
   "metadata": {},
   "outputs": [
    {
     "data": {
      "text/plain": [
       "array([[180,  57],\n",
       "       [ 35, 602]], dtype=int64)"
      ]
     },
     "execution_count": 22,
     "metadata": {},
     "output_type": "execute_result"
    }
   ],
   "source": [
    "confusion_matrix(y_test, y_predicted)"
   ]
  },
  {
   "cell_type": "code",
   "execution_count": 23,
   "id": "3b5e4f60",
   "metadata": {},
   "outputs": [
    {
     "data": {
      "text/plain": [
       "Index(['Gndr', 'Resident', 'RaceStat', 'Education', 'Occupation', 'Marriage',\n",
       "       'Age', '1stquestion', '6thquestion', '8thquestion', '11thquestion',\n",
       "       '12thquestion', '14thquestion', '18thquestion'],\n",
       "      dtype='object')"
      ]
     },
     "execution_count": 23,
     "metadata": {},
     "output_type": "execute_result"
    }
   ],
   "source": [
    "x1 = df[Strs].copy()\n",
    "x1.columns"
   ]
  },
  {
   "cell_type": "code",
   "execution_count": 24,
   "id": "8af5a5d6",
   "metadata": {},
   "outputs": [
    {
     "data": {
      "text/plain": [
       "Index(['Gndr', 'Resident', 'RaceStat', 'Education', 'Occupation', 'Marriage',\n",
       "       'Age', '2ndquestion', '4thquestion', '7thquestion', '9thquestion',\n",
       "       '15thquestion', '20thquestion', '19thquestion'],\n",
       "      dtype='object')"
      ]
     },
     "execution_count": 24,
     "metadata": {},
     "output_type": "execute_result"
    }
   ],
   "source": [
    "x2 = df[Anx].copy()\n",
    "x2.columns"
   ]
  },
  {
   "cell_type": "code",
   "execution_count": 25,
   "id": "97de2cb8",
   "metadata": {},
   "outputs": [
    {
     "data": {
      "text/plain": [
       "Index(['Stressed'], dtype='object')"
      ]
     },
     "execution_count": 25,
     "metadata": {},
     "output_type": "execute_result"
    }
   ],
   "source": [
    "cy1=['Stressed']\n",
    "y1=df[cy1].copy()\n",
    "y1.columns"
   ]
  },
  {
   "cell_type": "code",
   "execution_count": 26,
   "id": "a8ea600a",
   "metadata": {},
   "outputs": [
    {
     "data": {
      "text/plain": [
       "Index(['Anex'], dtype='object')"
      ]
     },
     "execution_count": 26,
     "metadata": {},
     "output_type": "execute_result"
    }
   ],
   "source": [
    "cy2=['Anex']\n",
    "y2=df[cy2].copy()\n",
    "y2.columns"
   ]
  },
  {
   "cell_type": "code",
   "execution_count": 27,
   "id": "4161f14f",
   "metadata": {},
   "outputs": [
    {
     "data": {
      "text/plain": [
       "1    560\n",
       "0    411\n",
       "Name: Stressed, dtype: int64"
      ]
     },
     "execution_count": 27,
     "metadata": {},
     "output_type": "execute_result"
    }
   ],
   "source": [
    "y1['Stressed'].value_counts()"
   ]
  },
  {
   "cell_type": "code",
   "execution_count": 28,
   "id": "47e0c545",
   "metadata": {},
   "outputs": [
    {
     "data": {
      "text/plain": [
       "1    770\n",
       "0    201\n",
       "Name: Anex, dtype: int64"
      ]
     },
     "execution_count": 28,
     "metadata": {},
     "output_type": "execute_result"
    }
   ],
   "source": [
    "y2['Anex'].value_counts()"
   ]
  },
  {
   "cell_type": "code",
   "execution_count": 29,
   "id": "b11eef5a",
   "metadata": {},
   "outputs": [],
   "source": [
    "X_train_n, X_test_n, y_train_n, y_test_n = train_test_split(x1, y1,test_size = 0.9, random_state = 1)"
   ]
  },
  {
   "cell_type": "code",
   "execution_count": 30,
   "id": "ba6e271c",
   "metadata": {},
   "outputs": [],
   "source": [
    "X_train_new1, y_train_new1 = sm.fit_resample(X_train_n, y_train_n)"
   ]
  },
  {
   "cell_type": "code",
   "execution_count": 31,
   "id": "49f9d209",
   "metadata": {},
   "outputs": [],
   "source": [
    "X_train_ne, X_test_ne, y_train_ne, y_test_ne = train_test_split(x2, y2,test_size = 0.9, random_state = 1)"
   ]
  },
  {
   "cell_type": "code",
   "execution_count": 32,
   "id": "e65845b8",
   "metadata": {},
   "outputs": [],
   "source": [
    "X_train_new2, y_train_new2 = sm.fit_resample(X_train_ne, y_train_ne)"
   ]
  },
  {
   "cell_type": "code",
   "execution_count": 33,
   "id": "9bd4fc04",
   "metadata": {},
   "outputs": [
    {
     "data": {
      "text/html": [
       "<style>#sk-container-id-2 {color: black;background-color: white;}#sk-container-id-2 pre{padding: 0;}#sk-container-id-2 div.sk-toggleable {background-color: white;}#sk-container-id-2 label.sk-toggleable__label {cursor: pointer;display: block;width: 100%;margin-bottom: 0;padding: 0.3em;box-sizing: border-box;text-align: center;}#sk-container-id-2 label.sk-toggleable__label-arrow:before {content: \"▸\";float: left;margin-right: 0.25em;color: #696969;}#sk-container-id-2 label.sk-toggleable__label-arrow:hover:before {color: black;}#sk-container-id-2 div.sk-estimator:hover label.sk-toggleable__label-arrow:before {color: black;}#sk-container-id-2 div.sk-toggleable__content {max-height: 0;max-width: 0;overflow: hidden;text-align: left;background-color: #f0f8ff;}#sk-container-id-2 div.sk-toggleable__content pre {margin: 0.2em;color: black;border-radius: 0.25em;background-color: #f0f8ff;}#sk-container-id-2 input.sk-toggleable__control:checked~div.sk-toggleable__content {max-height: 200px;max-width: 100%;overflow: auto;}#sk-container-id-2 input.sk-toggleable__control:checked~label.sk-toggleable__label-arrow:before {content: \"▾\";}#sk-container-id-2 div.sk-estimator input.sk-toggleable__control:checked~label.sk-toggleable__label {background-color: #d4ebff;}#sk-container-id-2 div.sk-label input.sk-toggleable__control:checked~label.sk-toggleable__label {background-color: #d4ebff;}#sk-container-id-2 input.sk-hidden--visually {border: 0;clip: rect(1px 1px 1px 1px);clip: rect(1px, 1px, 1px, 1px);height: 1px;margin: -1px;overflow: hidden;padding: 0;position: absolute;width: 1px;}#sk-container-id-2 div.sk-estimator {font-family: monospace;background-color: #f0f8ff;border: 1px dotted black;border-radius: 0.25em;box-sizing: border-box;margin-bottom: 0.5em;}#sk-container-id-2 div.sk-estimator:hover {background-color: #d4ebff;}#sk-container-id-2 div.sk-parallel-item::after {content: \"\";width: 100%;border-bottom: 1px solid gray;flex-grow: 1;}#sk-container-id-2 div.sk-label:hover label.sk-toggleable__label {background-color: #d4ebff;}#sk-container-id-2 div.sk-serial::before {content: \"\";position: absolute;border-left: 1px solid gray;box-sizing: border-box;top: 0;bottom: 0;left: 50%;z-index: 0;}#sk-container-id-2 div.sk-serial {display: flex;flex-direction: column;align-items: center;background-color: white;padding-right: 0.2em;padding-left: 0.2em;position: relative;}#sk-container-id-2 div.sk-item {position: relative;z-index: 1;}#sk-container-id-2 div.sk-parallel {display: flex;align-items: stretch;justify-content: center;background-color: white;position: relative;}#sk-container-id-2 div.sk-item::before, #sk-container-id-2 div.sk-parallel-item::before {content: \"\";position: absolute;border-left: 1px solid gray;box-sizing: border-box;top: 0;bottom: 0;left: 50%;z-index: -1;}#sk-container-id-2 div.sk-parallel-item {display: flex;flex-direction: column;z-index: 1;position: relative;background-color: white;}#sk-container-id-2 div.sk-parallel-item:first-child::after {align-self: flex-end;width: 50%;}#sk-container-id-2 div.sk-parallel-item:last-child::after {align-self: flex-start;width: 50%;}#sk-container-id-2 div.sk-parallel-item:only-child::after {width: 0;}#sk-container-id-2 div.sk-dashed-wrapped {border: 1px dashed gray;margin: 0 0.4em 0.5em 0.4em;box-sizing: border-box;padding-bottom: 0.4em;background-color: white;}#sk-container-id-2 div.sk-label label {font-family: monospace;font-weight: bold;display: inline-block;line-height: 1.2em;}#sk-container-id-2 div.sk-label-container {text-align: center;}#sk-container-id-2 div.sk-container {/* jupyter's `normalize.less` sets `[hidden] { display: none; }` but bootstrap.min.css set `[hidden] { display: none !important; }` so we also need the `!important` here to be able to override the default hidden behavior on the sphinx rendered scikit-learn.org. See: https://github.com/scikit-learn/scikit-learn/issues/21755 */display: inline-block !important;position: relative;}#sk-container-id-2 div.sk-text-repr-fallback {display: none;}</style><div id=\"sk-container-id-2\" class=\"sk-top-container\"><div class=\"sk-text-repr-fallback\"><pre>DecisionTreeClassifier()</pre><b>In a Jupyter environment, please rerun this cell to show the HTML representation or trust the notebook. <br />On GitHub, the HTML representation is unable to render, please try loading this page with nbviewer.org.</b></div><div class=\"sk-container\" hidden><div class=\"sk-item\"><div class=\"sk-estimator sk-toggleable\"><input class=\"sk-toggleable__control sk-hidden--visually\" id=\"sk-estimator-id-2\" type=\"checkbox\" checked><label for=\"sk-estimator-id-2\" class=\"sk-toggleable__label sk-toggleable__label-arrow\">DecisionTreeClassifier</label><div class=\"sk-toggleable__content\"><pre>DecisionTreeClassifier()</pre></div></div></div></div></div>"
      ],
      "text/plain": [
       "DecisionTreeClassifier()"
      ]
     },
     "execution_count": 33,
     "metadata": {},
     "output_type": "execute_result"
    }
   ],
   "source": [
    "x1 = tree.DecisionTreeClassifier()\n",
    "x1.fit(X_train_new1, y_train_new1)"
   ]
  },
  {
   "cell_type": "code",
   "execution_count": 34,
   "id": "e2b0d1d0",
   "metadata": {},
   "outputs": [],
   "source": [
    "y1_predicted = x1.predict(X_test_n)"
   ]
  },
  {
   "cell_type": "code",
   "execution_count": 35,
   "id": "4eecd59a",
   "metadata": {},
   "outputs": [
    {
     "data": {
      "text/plain": [
       "0.8844393592677345"
      ]
     },
     "execution_count": 35,
     "metadata": {},
     "output_type": "execute_result"
    }
   ],
   "source": [
    "accuracy_score(y_test_n, y1_predicted)"
   ]
  },
  {
   "cell_type": "code",
   "execution_count": 36,
   "id": "b1e01924",
   "metadata": {},
   "outputs": [
    {
     "data": {
      "text/html": [
       "<style>#sk-container-id-3 {color: black;background-color: white;}#sk-container-id-3 pre{padding: 0;}#sk-container-id-3 div.sk-toggleable {background-color: white;}#sk-container-id-3 label.sk-toggleable__label {cursor: pointer;display: block;width: 100%;margin-bottom: 0;padding: 0.3em;box-sizing: border-box;text-align: center;}#sk-container-id-3 label.sk-toggleable__label-arrow:before {content: \"▸\";float: left;margin-right: 0.25em;color: #696969;}#sk-container-id-3 label.sk-toggleable__label-arrow:hover:before {color: black;}#sk-container-id-3 div.sk-estimator:hover label.sk-toggleable__label-arrow:before {color: black;}#sk-container-id-3 div.sk-toggleable__content {max-height: 0;max-width: 0;overflow: hidden;text-align: left;background-color: #f0f8ff;}#sk-container-id-3 div.sk-toggleable__content pre {margin: 0.2em;color: black;border-radius: 0.25em;background-color: #f0f8ff;}#sk-container-id-3 input.sk-toggleable__control:checked~div.sk-toggleable__content {max-height: 200px;max-width: 100%;overflow: auto;}#sk-container-id-3 input.sk-toggleable__control:checked~label.sk-toggleable__label-arrow:before {content: \"▾\";}#sk-container-id-3 div.sk-estimator input.sk-toggleable__control:checked~label.sk-toggleable__label {background-color: #d4ebff;}#sk-container-id-3 div.sk-label input.sk-toggleable__control:checked~label.sk-toggleable__label {background-color: #d4ebff;}#sk-container-id-3 input.sk-hidden--visually {border: 0;clip: rect(1px 1px 1px 1px);clip: rect(1px, 1px, 1px, 1px);height: 1px;margin: -1px;overflow: hidden;padding: 0;position: absolute;width: 1px;}#sk-container-id-3 div.sk-estimator {font-family: monospace;background-color: #f0f8ff;border: 1px dotted black;border-radius: 0.25em;box-sizing: border-box;margin-bottom: 0.5em;}#sk-container-id-3 div.sk-estimator:hover {background-color: #d4ebff;}#sk-container-id-3 div.sk-parallel-item::after {content: \"\";width: 100%;border-bottom: 1px solid gray;flex-grow: 1;}#sk-container-id-3 div.sk-label:hover label.sk-toggleable__label {background-color: #d4ebff;}#sk-container-id-3 div.sk-serial::before {content: \"\";position: absolute;border-left: 1px solid gray;box-sizing: border-box;top: 0;bottom: 0;left: 50%;z-index: 0;}#sk-container-id-3 div.sk-serial {display: flex;flex-direction: column;align-items: center;background-color: white;padding-right: 0.2em;padding-left: 0.2em;position: relative;}#sk-container-id-3 div.sk-item {position: relative;z-index: 1;}#sk-container-id-3 div.sk-parallel {display: flex;align-items: stretch;justify-content: center;background-color: white;position: relative;}#sk-container-id-3 div.sk-item::before, #sk-container-id-3 div.sk-parallel-item::before {content: \"\";position: absolute;border-left: 1px solid gray;box-sizing: border-box;top: 0;bottom: 0;left: 50%;z-index: -1;}#sk-container-id-3 div.sk-parallel-item {display: flex;flex-direction: column;z-index: 1;position: relative;background-color: white;}#sk-container-id-3 div.sk-parallel-item:first-child::after {align-self: flex-end;width: 50%;}#sk-container-id-3 div.sk-parallel-item:last-child::after {align-self: flex-start;width: 50%;}#sk-container-id-3 div.sk-parallel-item:only-child::after {width: 0;}#sk-container-id-3 div.sk-dashed-wrapped {border: 1px dashed gray;margin: 0 0.4em 0.5em 0.4em;box-sizing: border-box;padding-bottom: 0.4em;background-color: white;}#sk-container-id-3 div.sk-label label {font-family: monospace;font-weight: bold;display: inline-block;line-height: 1.2em;}#sk-container-id-3 div.sk-label-container {text-align: center;}#sk-container-id-3 div.sk-container {/* jupyter's `normalize.less` sets `[hidden] { display: none; }` but bootstrap.min.css set `[hidden] { display: none !important; }` so we also need the `!important` here to be able to override the default hidden behavior on the sphinx rendered scikit-learn.org. See: https://github.com/scikit-learn/scikit-learn/issues/21755 */display: inline-block !important;position: relative;}#sk-container-id-3 div.sk-text-repr-fallback {display: none;}</style><div id=\"sk-container-id-3\" class=\"sk-top-container\"><div class=\"sk-text-repr-fallback\"><pre>DecisionTreeClassifier()</pre><b>In a Jupyter environment, please rerun this cell to show the HTML representation or trust the notebook. <br />On GitHub, the HTML representation is unable to render, please try loading this page with nbviewer.org.</b></div><div class=\"sk-container\" hidden><div class=\"sk-item\"><div class=\"sk-estimator sk-toggleable\"><input class=\"sk-toggleable__control sk-hidden--visually\" id=\"sk-estimator-id-3\" type=\"checkbox\" checked><label for=\"sk-estimator-id-3\" class=\"sk-toggleable__label sk-toggleable__label-arrow\">DecisionTreeClassifier</label><div class=\"sk-toggleable__content\"><pre>DecisionTreeClassifier()</pre></div></div></div></div></div>"
      ],
      "text/plain": [
       "DecisionTreeClassifier()"
      ]
     },
     "execution_count": 36,
     "metadata": {},
     "output_type": "execute_result"
    }
   ],
   "source": [
    "x2 = tree.DecisionTreeClassifier()\n",
    "x2.fit(X_train_ne, y_train_ne)"
   ]
  },
  {
   "cell_type": "code",
   "execution_count": 37,
   "id": "33f28469",
   "metadata": {},
   "outputs": [],
   "source": [
    "y2_predicted = x2.predict(X_test_ne)"
   ]
  },
  {
   "cell_type": "code",
   "execution_count": 39,
   "id": "ad53e61c",
   "metadata": {},
   "outputs": [
    {
     "data": {
      "text/plain": [
       "0.8901601830663616"
      ]
     },
     "execution_count": 39,
     "metadata": {},
     "output_type": "execute_result"
    }
   ],
   "source": [
    "accuracy_score(y_test_ne, y2_predicted)"
   ]
  },
  {
   "cell_type": "code",
   "execution_count": 31,
   "id": "1cedc2d8",
   "metadata": {},
   "outputs": [],
   "source": [
    "#######Depression ends here########"
   ]
  },
  {
   "cell_type": "code",
   "execution_count": 32,
   "id": "a947c95c",
   "metadata": {},
   "outputs": [],
   "source": []
  },
  {
   "cell_type": "code",
   "execution_count": 33,
   "id": "56ed88e8",
   "metadata": {},
   "outputs": [
    {
     "data": {
      "text/plain": [
       "Index(['Gndr', 'Resident', 'RaceStat', 'Education', 'Occupation', 'Marriage',\n",
       "       'Age', '3rdquestion', '5thquestion', '10thquestion', '13thquestion',\n",
       "       '16thquestion', '17thquestion', '21stquestion'],\n",
       "      dtype='object')"
      ]
     },
     "execution_count": 33,
     "metadata": {},
     "output_type": "execute_result"
    }
   ],
   "source": []
  },
  {
   "cell_type": "code",
   "execution_count": 34,
   "id": "5d8bb76f",
   "metadata": {},
   "outputs": [
    {
     "data": {
      "text/plain": [
       "Index(['Gndr', 'Resident', 'RaceStat', 'Education', 'Occupation', 'Marriage',\n",
       "       'Age', '1stquestion', '6thquestion', '8thquestion', '11thquestion',\n",
       "       '12thquestion', '14thquestion', '18thquestion'],\n",
       "      dtype='object')"
      ]
     },
     "execution_count": 34,
     "metadata": {},
     "output_type": "execute_result"
    }
   ],
   "source": []
  },
  {
   "cell_type": "code",
   "execution_count": 35,
   "id": "17d4b0e3",
   "metadata": {},
   "outputs": [
    {
     "data": {
      "text/plain": [
       "Index(['Gndr', 'Resident', 'RaceStat', 'Education', 'Occupation', 'Marriage',\n",
       "       'Age', '2ndquestion', '4thquestion', '7thquestion', '9thquestion',\n",
       "       '15thquestion', '20thquestion', '19thquestion'],\n",
       "      dtype='object')"
      ]
     },
     "execution_count": 35,
     "metadata": {},
     "output_type": "execute_result"
    }
   ],
   "source": [
    "x5 = df[Anx].copy()\n",
    "x5.columns"
   ]
  },
  {
   "cell_type": "code",
   "execution_count": null,
   "id": "f0caa6c2",
   "metadata": {},
   "outputs": [],
   "source": []
  },
  {
   "cell_type": "code",
   "execution_count": null,
   "id": "616655b6",
   "metadata": {},
   "outputs": [],
   "source": []
  },
  {
   "cell_type": "code",
   "execution_count": null,
   "id": "c6bbd6b2",
   "metadata": {},
   "outputs": [],
   "source": []
  },
  {
   "cell_type": "code",
   "execution_count": 175,
   "id": "b728032f",
   "metadata": {},
   "outputs": [],
   "source": [
    "x3 = SVC()"
   ]
  },
  {
   "cell_type": "code",
   "execution_count": 176,
   "id": "f5bb27c8",
   "metadata": {},
   "outputs": [],
   "source": [
    "x4 = SVC()"
   ]
  },
  {
   "cell_type": "code",
   "execution_count": 177,
   "id": "9a423c3b",
   "metadata": {},
   "outputs": [],
   "source": [
    "x5 = SVC()"
   ]
  },
  {
   "cell_type": "code",
   "execution_count": 178,
   "id": "e253859b",
   "metadata": {},
   "outputs": [
    {
     "name": "stderr",
     "output_type": "stream",
     "text": [
      "D:\\Anaconda\\lib\\site-packages\\sklearn\\utils\\validation.py:63: DataConversionWarning: A column-vector y was passed when a 1d array was expected. Please change the shape of y to (n_samples, ), for example using ravel().\n",
      "  return f(*args, **kwargs)\n"
     ]
    },
    {
     "data": {
      "text/plain": [
       "SVC()"
      ]
     },
     "execution_count": 178,
     "metadata": {},
     "output_type": "execute_result"
    }
   ],
   "source": [
    "x3.fit(X_train, y_train)"
   ]
  },
  {
   "cell_type": "code",
   "execution_count": 179,
   "id": "08cb0083",
   "metadata": {},
   "outputs": [
    {
     "name": "stderr",
     "output_type": "stream",
     "text": [
      "D:\\Anaconda\\lib\\site-packages\\sklearn\\utils\\validation.py:63: DataConversionWarning: A column-vector y was passed when a 1d array was expected. Please change the shape of y to (n_samples, ), for example using ravel().\n",
      "  return f(*args, **kwargs)\n"
     ]
    },
    {
     "data": {
      "text/plain": [
       "SVC()"
      ]
     },
     "execution_count": 179,
     "metadata": {},
     "output_type": "execute_result"
    }
   ],
   "source": [
    "x4.fit(X_train, y_train)"
   ]
  },
  {
   "cell_type": "code",
   "execution_count": 180,
   "id": "3738d2ab",
   "metadata": {},
   "outputs": [
    {
     "name": "stderr",
     "output_type": "stream",
     "text": [
      "D:\\Anaconda\\lib\\site-packages\\sklearn\\utils\\validation.py:63: DataConversionWarning: A column-vector y was passed when a 1d array was expected. Please change the shape of y to (n_samples, ), for example using ravel().\n",
      "  return f(*args, **kwargs)\n"
     ]
    },
    {
     "data": {
      "text/plain": [
       "SVC()"
      ]
     },
     "execution_count": 180,
     "metadata": {},
     "output_type": "execute_result"
    }
   ],
   "source": [
    "x5.fit(X_train, y_train)"
   ]
  },
  {
   "cell_type": "code",
   "execution_count": 181,
   "id": "6c37e3b4",
   "metadata": {},
   "outputs": [],
   "source": [
    "y_pred = x3.predict(X_test)"
   ]
  },
  {
   "cell_type": "code",
   "execution_count": 182,
   "id": "408e334f",
   "metadata": {},
   "outputs": [],
   "source": [
    "y1_pred = x4.predict(X_test)"
   ]
  },
  {
   "cell_type": "code",
   "execution_count": 183,
   "id": "5b3c9430",
   "metadata": {},
   "outputs": [],
   "source": [
    "y2_pred = x5.predict(X_test)"
   ]
  },
  {
   "cell_type": "code",
   "execution_count": 184,
   "id": "6dabc906",
   "metadata": {},
   "outputs": [],
   "source": [
    "score_depress = accuracy_score(y_pred, y_test)"
   ]
  },
  {
   "cell_type": "code",
   "execution_count": 185,
   "id": "a1aaa414",
   "metadata": {},
   "outputs": [],
   "source": [
    "score_stress = accuracy_score(y1_pred, y_test)"
   ]
  },
  {
   "cell_type": "code",
   "execution_count": 186,
   "id": "759809b1",
   "metadata": {},
   "outputs": [],
   "source": [
    "score_Anx = accuracy_score(y2_pred, y_test)"
   ]
  },
  {
   "cell_type": "code",
   "execution_count": 187,
   "id": "303cf079",
   "metadata": {},
   "outputs": [
    {
     "name": "stdout",
     "output_type": "stream",
     "text": [
      "0.9668192219679634\n"
     ]
    }
   ],
   "source": [
    "print(score_depress)"
   ]
  },
  {
   "cell_type": "code",
   "execution_count": 188,
   "id": "df2d5db6",
   "metadata": {},
   "outputs": [
    {
     "name": "stdout",
     "output_type": "stream",
     "text": [
      "0.9668192219679634\n"
     ]
    }
   ],
   "source": [
    "print(score_stress)"
   ]
  },
  {
   "cell_type": "code",
   "execution_count": 155,
   "id": "b571187e",
   "metadata": {},
   "outputs": [
    {
     "name": "stdout",
     "output_type": "stream",
     "text": [
      "0.9668192219679634\n"
     ]
    }
   ],
   "source": [
    "print(score_Anx)"
   ]
  },
  {
   "cell_type": "code",
   "execution_count": null,
   "id": "611a3b14",
   "metadata": {},
   "outputs": [],
   "source": []
  }
 ],
 "metadata": {
  "kernelspec": {
   "display_name": "Python 3 (ipykernel)",
   "language": "python",
   "name": "python3"
  },
  "language_info": {
   "codemirror_mode": {
    "name": "ipython",
    "version": 3
   },
   "file_extension": ".py",
   "mimetype": "text/x-python",
   "name": "python",
   "nbconvert_exporter": "python",
   "pygments_lexer": "ipython3",
   "version": "3.9.7"
  }
 },
 "nbformat": 4,
 "nbformat_minor": 5
}
